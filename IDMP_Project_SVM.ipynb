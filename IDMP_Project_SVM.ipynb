{
 "cells": [
  {
   "cell_type": "code",
   "execution_count": 1,
   "metadata": {
    "id": "wgE9paBh_fRq"
   },
   "outputs": [],
   "source": [
    "import numpy as np\n",
    "import pandas as pd\n",
    "\n",
    "from sklearn.tree import DecisionTreeClassifier # Import Decision Tree Classifier\n",
    "from sklearn.model_selection import train_test_split\n",
    "from sklearn import metrics\n",
    "\n",
    "import numpy as np\n",
    "from sklearn.metrics import precision_recall_fscore_support\n",
    "\n",
    "import imblearn\n",
    "from imblearn.over_sampling import SMOTE\n",
    "from collections import Counter\n",
    "from numpy import mean\n",
    "from sklearn.datasets import make_classification\n",
    "from sklearn.model_selection import cross_val_score\n",
    "from sklearn.model_selection import RepeatedStratifiedKFold\n",
    "from sklearn.tree import DecisionTreeClassifier\n",
    "from sklearn.metrics import f1_score\n",
    "\n",
    "import numpy as np\n",
    "from sklearn.pipeline import make_pipeline\n",
    "from sklearn.preprocessing import StandardScaler\n",
    "from sklearn.svm import SVC\n",
    "from sklearn.metrics import precision_score, recall_score, f1_score, accuracy_score"
   ]
  },
  {
   "cell_type": "markdown",
   "metadata": {
    "id": "v5xnOt8GQMhd"
   },
   "source": [
    "Data Loading and Preprocessing"
   ]
  },
  {
   "cell_type": "code",
   "execution_count": 2,
   "metadata": {
    "id": "0lRXWGfCWTSE"
   },
   "outputs": [],
   "source": [
    "X_train = pd.read_csv('data_train.csv')\n",
    "X_test = pd.read_csv('data_test.csv')"
   ]
  },
  {
   "cell_type": "code",
   "execution_count": 3,
   "metadata": {
    "id": "Qy1tkusFWttQ"
   },
   "outputs": [],
   "source": [
    "Y_train = X_train['y']\n",
    "Y_test = X_test['y']"
   ]
  },
  {
   "cell_type": "code",
   "execution_count": 4,
   "metadata": {
    "id": "c5xtaHSmXji2"
   },
   "outputs": [],
   "source": [
    "X_train = X_train.drop('y',axis=1)\n",
    "X_train = X_train.drop('Unnamed: 0',axis=1)\n",
    "\n",
    "X_test = X_test.drop('y',axis=1)\n",
    "X_test = X_test.drop('Unnamed: 0',axis=1)"
   ]
  },
  {
   "cell_type": "code",
   "execution_count": 5,
   "metadata": {
    "colab": {
     "base_uri": "https://localhost:8080/",
     "height": 81
    },
    "id": "jOEejhG9g60I",
    "outputId": "98f9e247-67fa-4d3f-aeb5-262a2bfc27e6"
   },
   "outputs": [
    {
     "data": {
      "text/html": [
       "<div>\n",
       "<style scoped>\n",
       "    .dataframe tbody tr th:only-of-type {\n",
       "        vertical-align: middle;\n",
       "    }\n",
       "\n",
       "    .dataframe tbody tr th {\n",
       "        vertical-align: top;\n",
       "    }\n",
       "\n",
       "    .dataframe thead th {\n",
       "        text-align: right;\n",
       "    }\n",
       "</style>\n",
       "<table border=\"1\" class=\"dataframe\">\n",
       "  <thead>\n",
       "    <tr style=\"text-align: right;\">\n",
       "      <th></th>\n",
       "      <th>duration</th>\n",
       "      <th>pdays</th>\n",
       "      <th>euribor3m</th>\n",
       "      <th>job</th>\n",
       "      <th>marital</th>\n",
       "      <th>education</th>\n",
       "      <th>default</th>\n",
       "      <th>housing</th>\n",
       "      <th>contact</th>\n",
       "      <th>month</th>\n",
       "      <th>day_of_week</th>\n",
       "      <th>poutcome</th>\n",
       "    </tr>\n",
       "  </thead>\n",
       "  <tbody>\n",
       "    <tr>\n",
       "      <th>0</th>\n",
       "      <td>226</td>\n",
       "      <td>999</td>\n",
       "      <td>4.857</td>\n",
       "      <td>1</td>\n",
       "      <td>0</td>\n",
       "      <td>1</td>\n",
       "      <td>0</td>\n",
       "      <td>1</td>\n",
       "      <td>0</td>\n",
       "      <td>0</td>\n",
       "      <td>0</td>\n",
       "      <td>0</td>\n",
       "    </tr>\n",
       "  </tbody>\n",
       "</table>\n",
       "</div>"
      ],
      "text/plain": [
       "   duration  pdays  euribor3m  job  marital  education  default  housing  \\\n",
       "0       226    999      4.857    1        0          1        0        1   \n",
       "\n",
       "   contact  month  day_of_week  poutcome  \n",
       "0        0      0            0         0  "
      ]
     },
     "execution_count": 5,
     "metadata": {},
     "output_type": "execute_result"
    }
   ],
   "source": [
    "X_test.head(1)"
   ]
  },
  {
   "cell_type": "markdown",
   "metadata": {
    "id": "n9b0D3PA57ei"
   },
   "source": [
    "# With SMOTE"
   ]
  },
  {
   "cell_type": "code",
   "execution_count": null,
   "metadata": {
    "id": "QANkHi265-La"
   },
   "outputs": [],
   "source": []
  },
  {
   "cell_type": "code",
   "execution_count": 6,
   "metadata": {
    "colab": {
     "base_uri": "https://localhost:8080/"
    },
    "id": "I_NA6L_x5_QG",
    "outputId": "b552f036-4ffd-467d-c76a-f7c1af644cd1"
   },
   "outputs": [
    {
     "data": {
      "text/plain": [
       "Counter({0: 28023, 1: 3540})"
      ]
     },
     "execution_count": 6,
     "metadata": {},
     "output_type": "execute_result"
    }
   ],
   "source": [
    "Counter(Y_train)"
   ]
  },
  {
   "cell_type": "code",
   "execution_count": 7,
   "metadata": {
    "id": "yVXmn-5X6GD9"
   },
   "outputs": [],
   "source": [
    "#SMOTE for balancing the dataset\n",
    "\n",
    "oversample = SMOTE()\n",
    "X, y = oversample.fit_resample(X_train, Y_train)"
   ]
  },
  {
   "cell_type": "code",
   "execution_count": 8,
   "metadata": {
    "colab": {
     "base_uri": "https://localhost:8080/"
    },
    "id": "wJ8icBfA6G-O",
    "outputId": "fba4603d-0841-4bc6-d350-9e9b252a0cd8"
   },
   "outputs": [
    {
     "data": {
      "text/plain": [
       "Counter({0: 28023, 1: 28023})"
      ]
     },
     "execution_count": 8,
     "metadata": {},
     "output_type": "execute_result"
    }
   ],
   "source": [
    "Counter(y)"
   ]
  },
  {
   "cell_type": "code",
   "execution_count": 11,
   "metadata": {},
   "outputs": [
    {
     "data": {
      "text/plain": [
       "Pipeline(steps=[('standardscaler', StandardScaler()),\n",
       "                ('svc', SVC(kernel='poly', random_state=2))])"
      ]
     },
     "execution_count": 11,
     "metadata": {},
     "output_type": "execute_result"
    }
   ],
   "source": [
    "clf = make_pipeline(StandardScaler(), SVC(C=1.0, kernel = 'poly', gamma='scale',\n",
    "                                                  random_state=2))\n",
    "clf.fit(X, y)"
   ]
  },
  {
   "cell_type": "code",
   "execution_count": 12,
   "metadata": {},
   "outputs": [
    {
     "name": "stdout",
     "output_type": "stream",
     "text": [
      "0.5349567949725059\n",
      "0.4010600706713781\n",
      "0.8030660377358491\n",
      "0.8498985801217038\n"
     ]
    }
   ],
   "source": [
    "y_pred = clf.predict(X_test)\n",
    "print(f1_score(Y_test,y_pred))\n",
    "print(precision_score(Y_test,y_pred))\n",
    "print(recall_score(Y_test,y_pred))\n",
    "print(accuracy_score(Y_test,y_pred))"
   ]
  },
  {
   "cell_type": "code",
   "execution_count": 14,
   "metadata": {},
   "outputs": [
    {
     "data": {
      "text/plain": [
       "0.8694547740568328"
      ]
     },
     "execution_count": 14,
     "metadata": {},
     "output_type": "execute_result"
    }
   ],
   "source": [
    "mean(cross_val_score(clf, X, y, cv=10,scoring='f1'))"
   ]
  },
  {
   "cell_type": "markdown",
   "metadata": {
    "id": "Rka2NmL8R37Z"
   },
   "source": [
    "**SVM**"
   ]
  },
  {
   "cell_type": "markdown",
   "metadata": {},
   "source": [
    "Iterating over different combinations of hyperparameters to identify the optimal parameters"
   ]
  },
  {
   "cell_type": "code",
   "execution_count": null,
   "metadata": {},
   "outputs": [],
   "source": [
    "from sklearn.model_selection import GridSearchCV\n",
    "from sklearn.datasets import make_classification\n",
    "from sklearn.ensemble import RandomForestClassifier\n",
    "\n",
    "clf = make_pipeline(StandardScaler(), SVC(C=1.0, kernel = 'poly', gamma='scale',\n",
    "                                                  random_state=2))\n",
    "param_grid = { \n",
    "    'kernel': [ 'poly','rbf','linear','sigmoid', 'precomputed'],\n",
    "    'gamma' : ['scale', 'auto'],\n",
    "    'degree': range(1,10)\n",
    "}\n",
    "\n",
    "CV_rfc = GridSearchCV(estimator=clf, param_grid=param_grid, cv= 10,scoring=\"f1\")\n",
    "CV_rfc.fit(X, y)"
   ]
  },
  {
   "cell_type": "code",
   "execution_count": null,
   "metadata": {},
   "outputs": [],
   "source": [
    "CV_rfc.best_estimator_"
   ]
  },
  {
   "cell_type": "markdown",
   "metadata": {},
   "source": [
    "Iterating over all combinations of hyperparameters using for loops helps us evaluate the performance of each model on the test data as well. (For sake of curiosity😅)"
   ]
  },
  {
   "cell_type": "code",
   "execution_count": 10,
   "metadata": {
    "colab": {
     "base_uri": "https://localhost:8080/"
    },
    "id": "zinKb0z8R5dp",
    "outputId": "dcd2e019-e89c-44e4-a5b9-b0c811d9345d"
   },
   "outputs": [
    {
     "name": "stdout",
     "output_type": "stream",
     "text": [
      "poly\n",
      "scale\n",
      "Start\n",
      "end\n",
      "poly scale 1\n",
      "{'poly scale 1': 0.8691311482960756} {'poly scale 1': 0.5146067415730338}\n",
      "Start\n",
      "end\n",
      "poly scale 2\n",
      "{'poly scale 1': 0.8691311482960756, 'poly scale 2': 0.8405925188174802} {'poly scale 1': 0.5146067415730338, 'poly scale 2': 0.4693053311793215}\n",
      "Start\n",
      "end\n",
      "poly scale 3\n",
      "{'poly scale 1': 0.8691311482960756, 'poly scale 2': 0.8405925188174802, 'poly scale 3': 0.8718457124919385} {'poly scale 1': 0.5146067415730338, 'poly scale 2': 0.4693053311793215, 'poly scale 3': 0.5335952848722987}\n",
      "Start\n",
      "end\n",
      "poly scale 4\n",
      "{'poly scale 1': 0.8691311482960756, 'poly scale 2': 0.8405925188174802, 'poly scale 3': 0.8718457124919385, 'poly scale 4': 0.8649412225687649} {'poly scale 1': 0.5146067415730338, 'poly scale 2': 0.4693053311793215, 'poly scale 3': 0.5335952848722987, 'poly scale 4': 0.5181636726546905}\n",
      "Start\n",
      "end\n",
      "poly scale 5\n",
      "{'poly scale 1': 0.8691311482960756, 'poly scale 2': 0.8405925188174802, 'poly scale 3': 0.8718457124919385, 'poly scale 4': 0.8649412225687649, 'poly scale 5': 0.8702431514324911} {'poly scale 1': 0.5146067415730338, 'poly scale 2': 0.4693053311793215, 'poly scale 3': 0.5335952848722987, 'poly scale 4': 0.5181636726546905, 'poly scale 5': 0.5185477505919496}\n",
      "Start\n",
      "end\n",
      "poly scale 6\n",
      "{'poly scale 1': 0.8691311482960756, 'poly scale 2': 0.8405925188174802, 'poly scale 3': 0.8718457124919385, 'poly scale 4': 0.8649412225687649, 'poly scale 5': 0.8702431514324911, 'poly scale 6': 0.8591738380293581} {'poly scale 1': 0.5146067415730338, 'poly scale 2': 0.4693053311793215, 'poly scale 3': 0.5335952848722987, 'poly scale 4': 0.5181636726546905, 'poly scale 5': 0.5185477505919496, 'poly scale 6': 0.473305566073457}\n",
      "Start\n",
      "end\n",
      "poly scale 7\n",
      "{'poly scale 1': 0.8691311482960756, 'poly scale 2': 0.8405925188174802, 'poly scale 3': 0.8718457124919385, 'poly scale 4': 0.8649412225687649, 'poly scale 5': 0.8702431514324911, 'poly scale 6': 0.8591738380293581, 'poly scale 7': 0.8596228390910211} {'poly scale 1': 0.5146067415730338, 'poly scale 2': 0.4693053311793215, 'poly scale 3': 0.5335952848722987, 'poly scale 4': 0.5181636726546905, 'poly scale 5': 0.5185477505919496, 'poly scale 6': 0.473305566073457, 'poly scale 7': 0.4691718350966801}\n",
      "Start\n",
      "end\n",
      "poly scale 8\n",
      "{'poly scale 1': 0.8691311482960756, 'poly scale 2': 0.8405925188174802, 'poly scale 3': 0.8718457124919385, 'poly scale 4': 0.8649412225687649, 'poly scale 5': 0.8702431514324911, 'poly scale 6': 0.8591738380293581, 'poly scale 7': 0.8596228390910211, 'poly scale 8': 0.8389312431011167} {'poly scale 1': 0.5146067415730338, 'poly scale 2': 0.4693053311793215, 'poly scale 3': 0.5335952848722987, 'poly scale 4': 0.5181636726546905, 'poly scale 5': 0.5185477505919496, 'poly scale 6': 0.473305566073457, 'poly scale 7': 0.4691718350966801, 'poly scale 8': 0.3971902937420179}\n",
      "Start\n",
      "end\n",
      "poly scale 9\n",
      "{'poly scale 1': 0.8691311482960756, 'poly scale 2': 0.8405925188174802, 'poly scale 3': 0.8718457124919385, 'poly scale 4': 0.8649412225687649, 'poly scale 5': 0.8702431514324911, 'poly scale 6': 0.8591738380293581, 'poly scale 7': 0.8596228390910211, 'poly scale 8': 0.8389312431011167, 'poly scale 9': 0.8342865711000957} {'poly scale 1': 0.5146067415730338, 'poly scale 2': 0.4693053311793215, 'poly scale 3': 0.5335952848722987, 'poly scale 4': 0.5181636726546905, 'poly scale 5': 0.5185477505919496, 'poly scale 6': 0.473305566073457, 'poly scale 7': 0.4691718350966801, 'poly scale 8': 0.3971902937420179, 'poly scale 9': 0.3881932021466905}\n",
      "poly scale\n",
      "auto\n",
      "Start\n",
      "end\n",
      "poly auto 1\n",
      "{'poly scale 1': 0.8691311482960756, 'poly scale 2': 0.8405925188174802, 'poly scale 3': 0.8718457124919385, 'poly scale 4': 0.8649412225687649, 'poly scale 5': 0.8702431514324911, 'poly scale 6': 0.8591738380293581, 'poly scale 7': 0.8596228390910211, 'poly scale 8': 0.8389312431011167, 'poly scale 9': 0.8342865711000957, 'poly scale': 0.8718457124919385, 'poly auto 1': 0.8691311482960756} {'poly scale 1': 0.5146067415730338, 'poly scale 2': 0.4693053311793215, 'poly scale 3': 0.5335952848722987, 'poly scale 4': 0.5181636726546905, 'poly scale 5': 0.5185477505919496, 'poly scale 6': 0.473305566073457, 'poly scale 7': 0.4691718350966801, 'poly scale 8': 0.3971902937420179, 'poly scale 9': 0.3881932021466905, 'poly scale': 0.5335952848722987, 'poly auto 1': 0.5146067415730338}\n",
      "Start\n",
      "end\n",
      "poly auto 2\n",
      "{'poly scale 1': 0.8691311482960756, 'poly scale 2': 0.8405925188174802, 'poly scale 3': 0.8718457124919385, 'poly scale 4': 0.8649412225687649, 'poly scale 5': 0.8702431514324911, 'poly scale 6': 0.8591738380293581, 'poly scale 7': 0.8596228390910211, 'poly scale 8': 0.8389312431011167, 'poly scale 9': 0.8342865711000957, 'poly scale': 0.8718457124919385, 'poly auto 1': 0.8691311482960756, 'poly auto 2': 0.8405925188174802} {'poly scale 1': 0.5146067415730338, 'poly scale 2': 0.4693053311793215, 'poly scale 3': 0.5335952848722987, 'poly scale 4': 0.5181636726546905, 'poly scale 5': 0.5185477505919496, 'poly scale 6': 0.473305566073457, 'poly scale 7': 0.4691718350966801, 'poly scale 8': 0.3971902937420179, 'poly scale 9': 0.3881932021466905, 'poly scale': 0.5335952848722987, 'poly auto 1': 0.5146067415730338, 'poly auto 2': 0.4693053311793215}\n",
      "Start\n",
      "end\n",
      "poly auto 3\n",
      "{'poly scale 1': 0.8691311482960756, 'poly scale 2': 0.8405925188174802, 'poly scale 3': 0.8718457124919385, 'poly scale 4': 0.8649412225687649, 'poly scale 5': 0.8702431514324911, 'poly scale 6': 0.8591738380293581, 'poly scale 7': 0.8596228390910211, 'poly scale 8': 0.8389312431011167, 'poly scale 9': 0.8342865711000957, 'poly scale': 0.8718457124919385, 'poly auto 1': 0.8691311482960756, 'poly auto 2': 0.8405925188174802, 'poly auto 3': 0.8718457124919385} {'poly scale 1': 0.5146067415730338, 'poly scale 2': 0.4693053311793215, 'poly scale 3': 0.5335952848722987, 'poly scale 4': 0.5181636726546905, 'poly scale 5': 0.5185477505919496, 'poly scale 6': 0.473305566073457, 'poly scale 7': 0.4691718350966801, 'poly scale 8': 0.3971902937420179, 'poly scale 9': 0.3881932021466905, 'poly scale': 0.5335952848722987, 'poly auto 1': 0.5146067415730338, 'poly auto 2': 0.4693053311793215, 'poly auto 3': 0.5335952848722987}\n",
      "Start\n",
      "end\n",
      "poly auto 4\n",
      "{'poly scale 1': 0.8691311482960756, 'poly scale 2': 0.8405925188174802, 'poly scale 3': 0.8718457124919385, 'poly scale 4': 0.8649412225687649, 'poly scale 5': 0.8702431514324911, 'poly scale 6': 0.8591738380293581, 'poly scale 7': 0.8596228390910211, 'poly scale 8': 0.8389312431011167, 'poly scale 9': 0.8342865711000957, 'poly scale': 0.8718457124919385, 'poly auto 1': 0.8691311482960756, 'poly auto 2': 0.8405925188174802, 'poly auto 3': 0.8718457124919385, 'poly auto 4': 0.8649412225687649} {'poly scale 1': 0.5146067415730338, 'poly scale 2': 0.4693053311793215, 'poly scale 3': 0.5335952848722987, 'poly scale 4': 0.5181636726546905, 'poly scale 5': 0.5185477505919496, 'poly scale 6': 0.473305566073457, 'poly scale 7': 0.4691718350966801, 'poly scale 8': 0.3971902937420179, 'poly scale 9': 0.3881932021466905, 'poly scale': 0.5335952848722987, 'poly auto 1': 0.5146067415730338, 'poly auto 2': 0.4693053311793215, 'poly auto 3': 0.5335952848722987, 'poly auto 4': 0.5181636726546905}\n",
      "Start\n",
      "end\n",
      "poly auto 5\n",
      "{'poly scale 1': 0.8691311482960756, 'poly scale 2': 0.8405925188174802, 'poly scale 3': 0.8718457124919385, 'poly scale 4': 0.8649412225687649, 'poly scale 5': 0.8702431514324911, 'poly scale 6': 0.8591738380293581, 'poly scale 7': 0.8596228390910211, 'poly scale 8': 0.8389312431011167, 'poly scale 9': 0.8342865711000957, 'poly scale': 0.8718457124919385, 'poly auto 1': 0.8691311482960756, 'poly auto 2': 0.8405925188174802, 'poly auto 3': 0.8718457124919385, 'poly auto 4': 0.8649412225687649, 'poly auto 5': 0.8702431514324911} {'poly scale 1': 0.5146067415730338, 'poly scale 2': 0.4693053311793215, 'poly scale 3': 0.5335952848722987, 'poly scale 4': 0.5181636726546905, 'poly scale 5': 0.5185477505919496, 'poly scale 6': 0.473305566073457, 'poly scale 7': 0.4691718350966801, 'poly scale 8': 0.3971902937420179, 'poly scale 9': 0.3881932021466905, 'poly scale': 0.5335952848722987, 'poly auto 1': 0.5146067415730338, 'poly auto 2': 0.4693053311793215, 'poly auto 3': 0.5335952848722987, 'poly auto 4': 0.5181636726546905, 'poly auto 5': 0.5185477505919496}\n",
      "Start\n"
     ]
    },
    {
     "name": "stdout",
     "output_type": "stream",
     "text": [
      "end\n",
      "poly auto 6\n",
      "{'poly scale 1': 0.8691311482960756, 'poly scale 2': 0.8405925188174802, 'poly scale 3': 0.8718457124919385, 'poly scale 4': 0.8649412225687649, 'poly scale 5': 0.8702431514324911, 'poly scale 6': 0.8591738380293581, 'poly scale 7': 0.8596228390910211, 'poly scale 8': 0.8389312431011167, 'poly scale 9': 0.8342865711000957, 'poly scale': 0.8718457124919385, 'poly auto 1': 0.8691311482960756, 'poly auto 2': 0.8405925188174802, 'poly auto 3': 0.8718457124919385, 'poly auto 4': 0.8649412225687649, 'poly auto 5': 0.8702431514324911, 'poly auto 6': 0.8591738380293581} {'poly scale 1': 0.5146067415730338, 'poly scale 2': 0.4693053311793215, 'poly scale 3': 0.5335952848722987, 'poly scale 4': 0.5181636726546905, 'poly scale 5': 0.5185477505919496, 'poly scale 6': 0.473305566073457, 'poly scale 7': 0.4691718350966801, 'poly scale 8': 0.3971902937420179, 'poly scale 9': 0.3881932021466905, 'poly scale': 0.5335952848722987, 'poly auto 1': 0.5146067415730338, 'poly auto 2': 0.4693053311793215, 'poly auto 3': 0.5335952848722987, 'poly auto 4': 0.5181636726546905, 'poly auto 5': 0.5185477505919496, 'poly auto 6': 0.473305566073457}\n",
      "Start\n",
      "end\n",
      "poly auto 7\n",
      "{'poly scale 1': 0.8691311482960756, 'poly scale 2': 0.8405925188174802, 'poly scale 3': 0.8718457124919385, 'poly scale 4': 0.8649412225687649, 'poly scale 5': 0.8702431514324911, 'poly scale 6': 0.8591738380293581, 'poly scale 7': 0.8596228390910211, 'poly scale 8': 0.8389312431011167, 'poly scale 9': 0.8342865711000957, 'poly scale': 0.8718457124919385, 'poly auto 1': 0.8691311482960756, 'poly auto 2': 0.8405925188174802, 'poly auto 3': 0.8718457124919385, 'poly auto 4': 0.8649412225687649, 'poly auto 5': 0.8702431514324911, 'poly auto 6': 0.8591738380293581, 'poly auto 7': 0.8596228390910211} {'poly scale 1': 0.5146067415730338, 'poly scale 2': 0.4693053311793215, 'poly scale 3': 0.5335952848722987, 'poly scale 4': 0.5181636726546905, 'poly scale 5': 0.5185477505919496, 'poly scale 6': 0.473305566073457, 'poly scale 7': 0.4691718350966801, 'poly scale 8': 0.3971902937420179, 'poly scale 9': 0.3881932021466905, 'poly scale': 0.5335952848722987, 'poly auto 1': 0.5146067415730338, 'poly auto 2': 0.4693053311793215, 'poly auto 3': 0.5335952848722987, 'poly auto 4': 0.5181636726546905, 'poly auto 5': 0.5185477505919496, 'poly auto 6': 0.473305566073457, 'poly auto 7': 0.4691718350966801}\n",
      "Start\n",
      "end\n",
      "poly auto 8\n",
      "{'poly scale 1': 0.8691311482960756, 'poly scale 2': 0.8405925188174802, 'poly scale 3': 0.8718457124919385, 'poly scale 4': 0.8649412225687649, 'poly scale 5': 0.8702431514324911, 'poly scale 6': 0.8591738380293581, 'poly scale 7': 0.8596228390910211, 'poly scale 8': 0.8389312431011167, 'poly scale 9': 0.8342865711000957, 'poly scale': 0.8718457124919385, 'poly auto 1': 0.8691311482960756, 'poly auto 2': 0.8405925188174802, 'poly auto 3': 0.8718457124919385, 'poly auto 4': 0.8649412225687649, 'poly auto 5': 0.8702431514324911, 'poly auto 6': 0.8591738380293581, 'poly auto 7': 0.8596228390910211, 'poly auto 8': 0.8389312431011167} {'poly scale 1': 0.5146067415730338, 'poly scale 2': 0.4693053311793215, 'poly scale 3': 0.5335952848722987, 'poly scale 4': 0.5181636726546905, 'poly scale 5': 0.5185477505919496, 'poly scale 6': 0.473305566073457, 'poly scale 7': 0.4691718350966801, 'poly scale 8': 0.3971902937420179, 'poly scale 9': 0.3881932021466905, 'poly scale': 0.5335952848722987, 'poly auto 1': 0.5146067415730338, 'poly auto 2': 0.4693053311793215, 'poly auto 3': 0.5335952848722987, 'poly auto 4': 0.5181636726546905, 'poly auto 5': 0.5185477505919496, 'poly auto 6': 0.473305566073457, 'poly auto 7': 0.4691718350966801, 'poly auto 8': 0.3971902937420179}\n",
      "Start\n",
      "end\n",
      "poly auto 9\n",
      "{'poly scale 1': 0.8691311482960756, 'poly scale 2': 0.8405925188174802, 'poly scale 3': 0.8718457124919385, 'poly scale 4': 0.8649412225687649, 'poly scale 5': 0.8702431514324911, 'poly scale 6': 0.8591738380293581, 'poly scale 7': 0.8596228390910211, 'poly scale 8': 0.8389312431011167, 'poly scale 9': 0.8342865711000957, 'poly scale': 0.8718457124919385, 'poly auto 1': 0.8691311482960756, 'poly auto 2': 0.8405925188174802, 'poly auto 3': 0.8718457124919385, 'poly auto 4': 0.8649412225687649, 'poly auto 5': 0.8702431514324911, 'poly auto 6': 0.8591738380293581, 'poly auto 7': 0.8596228390910211, 'poly auto 8': 0.8389312431011167, 'poly auto 9': 0.8342865711000957} {'poly scale 1': 0.5146067415730338, 'poly scale 2': 0.4693053311793215, 'poly scale 3': 0.5335952848722987, 'poly scale 4': 0.5181636726546905, 'poly scale 5': 0.5185477505919496, 'poly scale 6': 0.473305566073457, 'poly scale 7': 0.4691718350966801, 'poly scale 8': 0.3971902937420179, 'poly scale 9': 0.3881932021466905, 'poly scale': 0.5335952848722987, 'poly auto 1': 0.5146067415730338, 'poly auto 2': 0.4693053311793215, 'poly auto 3': 0.5335952848722987, 'poly auto 4': 0.5181636726546905, 'poly auto 5': 0.5185477505919496, 'poly auto 6': 0.473305566073457, 'poly auto 7': 0.4691718350966801, 'poly auto 8': 0.3971902937420179, 'poly auto 9': 0.3881932021466905}\n",
      "poly auto\n",
      "rbf\n",
      "scale\n",
      "auto\n",
      "linear\n",
      "scale\n",
      "auto\n",
      "sigmoid\n",
      "scale\n",
      "auto\n",
      "precomputed\n",
      "scale\n",
      "auto\n"
     ]
    }
   ],
   "source": [
    "Training = {}\n",
    "Testing = {}\n",
    "\n",
    "for kernel in [ 'poly','rbf','linear','sigmoid', 'precomputed']:\n",
    "  print(kernel)\n",
    "  for gamma in ['scale', 'auto']:\n",
    "    print(gamma)\n",
    "    if kernel == 'poly':\n",
    "      for degree in range(1,10):\n",
    "        print(\"Start\")\n",
    "        clf = make_pipeline(StandardScaler(), SVC(C=1.0, kernel = kernel, degree=degree, gamma=gamma,\n",
    "                                                  random_state=2))\n",
    "        clf.fit(X, y)\n",
    "        print(\"end\")\n",
    "        scores = cross_val_score(clf, X, y, cv=10,scoring='f1')\n",
    "        s = str(kernel)+\" \"+str(gamma)+\" \"+str(degree)\n",
    "        print(s)\n",
    "        Training[s]= mean(scores)\n",
    "        y_pred = clf.predict(X_test)\n",
    "        Testing[s]= f1_score(Y_test, y_pred)\n",
    "        print(Training,Testing)\n",
    "      else:\n",
    "        clf = make_pipeline(StandardScaler(), SVC( C=1.0, kernel = kernel, degree=3, gamma=gamma, coef0=0.0, shrinking=True, probability=False, \n",
    "                  random_state=2))\n",
    "        clf.fit(X, y)\n",
    "        scores = cross_val_score(clf, X, y, cv=10,scoring='f1')\n",
    "        s = str(kernel)+\" \"+str(gamma)\n",
    "        Training[s]= mean(scores)\n",
    "\n",
    "        y_pred = clf.predict(X_test)\n",
    "        Testing[s]=f1_score(Y_test, y_pred)\n",
    "        print(s)\n",
    "\n",
    "      \n",
    "      \n",
    "          \n",
    "          \n"
   ]
  },
  {
   "cell_type": "markdown",
   "metadata": {},
   "source": [
    "Storing all the results in dataframes and then saving them in a csv file"
   ]
  },
  {
   "cell_type": "code",
   "execution_count": 11,
   "metadata": {
    "id": "f-fZSrUgthfB"
   },
   "outputs": [],
   "source": [
    "Training_List=[]\n",
    "Training_List_names = []\n",
    "for i in Training.items():\n",
    "  Training_List_names.append(i[0])\n",
    "  Training_List.append(i[1])\n",
    "\n",
    "d_all_training = {\"Model Config\":Training_List_names,'Training Average CV F1':Training_List}  \n",
    "\n",
    "Testing_List=[]\n",
    "Testing_List_names = []\n",
    "for i in Testing.items():\n",
    "  Testing_List_names.append(i[0])\n",
    "  Testing_List.append(i[1])\n",
    "\n",
    "d_all_testing= {\"Model Config\":Testing_List_names,'Testing F1':Testing_List}"
   ]
  },
  {
   "cell_type": "code",
   "execution_count": 12,
   "metadata": {
    "id": "d9KUgWEGxdOq"
   },
   "outputs": [],
   "source": [
    "df1= pd.DataFrame.from_dict(d_all_training)\n",
    "df2 = pd.DataFrame.from_dict(d_all_testing)\n",
    "\n"
   ]
  },
  {
   "cell_type": "code",
   "execution_count": 13,
   "metadata": {
    "id": "8gPJNGWe-y_B"
   },
   "outputs": [],
   "source": [
    "result = pd.concat([df1, df2], axis=1)"
   ]
  },
  {
   "cell_type": "code",
   "execution_count": 17,
   "metadata": {
    "id": "25NsR-lkt81A"
   },
   "outputs": [],
   "source": [
    "compression_opts = dict(method='zip',\n",
    "                        archive_name='out.csv') \n",
    "df1.to_csv('SVM_train.csv', index=False) \n",
    "df2.to_csv('SVM_test.csv', index=False) \n",
    "result.to_csv('SVM.csv', index=False) "
   ]
  },
  {
   "cell_type": "code",
   "execution_count": 16,
   "metadata": {},
   "outputs": [
    {
     "data": {
      "text/html": [
       "<div>\n",
       "<style scoped>\n",
       "    .dataframe tbody tr th:only-of-type {\n",
       "        vertical-align: middle;\n",
       "    }\n",
       "\n",
       "    .dataframe tbody tr th {\n",
       "        vertical-align: top;\n",
       "    }\n",
       "\n",
       "    .dataframe thead th {\n",
       "        text-align: right;\n",
       "    }\n",
       "</style>\n",
       "<table border=\"1\" class=\"dataframe\">\n",
       "  <thead>\n",
       "    <tr style=\"text-align: right;\">\n",
       "      <th></th>\n",
       "      <th>Model Config</th>\n",
       "      <th>Training Average CV F1</th>\n",
       "      <th>Model Config</th>\n",
       "      <th>Testing F1</th>\n",
       "    </tr>\n",
       "  </thead>\n",
       "  <tbody>\n",
       "    <tr>\n",
       "      <th>0</th>\n",
       "      <td>poly scale 1</td>\n",
       "      <td>0.869131</td>\n",
       "      <td>poly scale 1</td>\n",
       "      <td>0.514607</td>\n",
       "    </tr>\n",
       "    <tr>\n",
       "      <th>1</th>\n",
       "      <td>poly scale 2</td>\n",
       "      <td>0.840593</td>\n",
       "      <td>poly scale 2</td>\n",
       "      <td>0.469305</td>\n",
       "    </tr>\n",
       "    <tr>\n",
       "      <th>2</th>\n",
       "      <td>poly scale 3</td>\n",
       "      <td>0.871846</td>\n",
       "      <td>poly scale 3</td>\n",
       "      <td>0.533595</td>\n",
       "    </tr>\n",
       "    <tr>\n",
       "      <th>3</th>\n",
       "      <td>poly scale 4</td>\n",
       "      <td>0.864941</td>\n",
       "      <td>poly scale 4</td>\n",
       "      <td>0.518164</td>\n",
       "    </tr>\n",
       "    <tr>\n",
       "      <th>4</th>\n",
       "      <td>poly scale 5</td>\n",
       "      <td>0.870243</td>\n",
       "      <td>poly scale 5</td>\n",
       "      <td>0.518548</td>\n",
       "    </tr>\n",
       "    <tr>\n",
       "      <th>5</th>\n",
       "      <td>poly scale 6</td>\n",
       "      <td>0.859174</td>\n",
       "      <td>poly scale 6</td>\n",
       "      <td>0.473306</td>\n",
       "    </tr>\n",
       "    <tr>\n",
       "      <th>6</th>\n",
       "      <td>poly scale 7</td>\n",
       "      <td>0.859623</td>\n",
       "      <td>poly scale 7</td>\n",
       "      <td>0.469172</td>\n",
       "    </tr>\n",
       "    <tr>\n",
       "      <th>7</th>\n",
       "      <td>poly scale 8</td>\n",
       "      <td>0.838931</td>\n",
       "      <td>poly scale 8</td>\n",
       "      <td>0.397190</td>\n",
       "    </tr>\n",
       "    <tr>\n",
       "      <th>8</th>\n",
       "      <td>poly scale 9</td>\n",
       "      <td>0.834287</td>\n",
       "      <td>poly scale 9</td>\n",
       "      <td>0.388193</td>\n",
       "    </tr>\n",
       "    <tr>\n",
       "      <th>9</th>\n",
       "      <td>poly scale</td>\n",
       "      <td>0.871846</td>\n",
       "      <td>poly scale</td>\n",
       "      <td>0.533595</td>\n",
       "    </tr>\n",
       "    <tr>\n",
       "      <th>10</th>\n",
       "      <td>poly auto 1</td>\n",
       "      <td>0.869131</td>\n",
       "      <td>poly auto 1</td>\n",
       "      <td>0.514607</td>\n",
       "    </tr>\n",
       "    <tr>\n",
       "      <th>11</th>\n",
       "      <td>poly auto 2</td>\n",
       "      <td>0.840593</td>\n",
       "      <td>poly auto 2</td>\n",
       "      <td>0.469305</td>\n",
       "    </tr>\n",
       "    <tr>\n",
       "      <th>12</th>\n",
       "      <td>poly auto 3</td>\n",
       "      <td>0.871846</td>\n",
       "      <td>poly auto 3</td>\n",
       "      <td>0.533595</td>\n",
       "    </tr>\n",
       "    <tr>\n",
       "      <th>13</th>\n",
       "      <td>poly auto 4</td>\n",
       "      <td>0.864941</td>\n",
       "      <td>poly auto 4</td>\n",
       "      <td>0.518164</td>\n",
       "    </tr>\n",
       "    <tr>\n",
       "      <th>14</th>\n",
       "      <td>poly auto 5</td>\n",
       "      <td>0.870243</td>\n",
       "      <td>poly auto 5</td>\n",
       "      <td>0.518548</td>\n",
       "    </tr>\n",
       "    <tr>\n",
       "      <th>15</th>\n",
       "      <td>poly auto 6</td>\n",
       "      <td>0.859174</td>\n",
       "      <td>poly auto 6</td>\n",
       "      <td>0.473306</td>\n",
       "    </tr>\n",
       "    <tr>\n",
       "      <th>16</th>\n",
       "      <td>poly auto 7</td>\n",
       "      <td>0.859623</td>\n",
       "      <td>poly auto 7</td>\n",
       "      <td>0.469172</td>\n",
       "    </tr>\n",
       "    <tr>\n",
       "      <th>17</th>\n",
       "      <td>poly auto 8</td>\n",
       "      <td>0.838931</td>\n",
       "      <td>poly auto 8</td>\n",
       "      <td>0.397190</td>\n",
       "    </tr>\n",
       "    <tr>\n",
       "      <th>18</th>\n",
       "      <td>poly auto 9</td>\n",
       "      <td>0.834287</td>\n",
       "      <td>poly auto 9</td>\n",
       "      <td>0.388193</td>\n",
       "    </tr>\n",
       "    <tr>\n",
       "      <th>19</th>\n",
       "      <td>poly auto</td>\n",
       "      <td>0.871846</td>\n",
       "      <td>poly auto</td>\n",
       "      <td>0.533595</td>\n",
       "    </tr>\n",
       "  </tbody>\n",
       "</table>\n",
       "</div>"
      ],
      "text/plain": [
       "    Model Config  Training Average CV F1  Model Config  Testing F1\n",
       "0   poly scale 1                0.869131  poly scale 1    0.514607\n",
       "1   poly scale 2                0.840593  poly scale 2    0.469305\n",
       "2   poly scale 3                0.871846  poly scale 3    0.533595\n",
       "3   poly scale 4                0.864941  poly scale 4    0.518164\n",
       "4   poly scale 5                0.870243  poly scale 5    0.518548\n",
       "5   poly scale 6                0.859174  poly scale 6    0.473306\n",
       "6   poly scale 7                0.859623  poly scale 7    0.469172\n",
       "7   poly scale 8                0.838931  poly scale 8    0.397190\n",
       "8   poly scale 9                0.834287  poly scale 9    0.388193\n",
       "9     poly scale                0.871846    poly scale    0.533595\n",
       "10   poly auto 1                0.869131   poly auto 1    0.514607\n",
       "11   poly auto 2                0.840593   poly auto 2    0.469305\n",
       "12   poly auto 3                0.871846   poly auto 3    0.533595\n",
       "13   poly auto 4                0.864941   poly auto 4    0.518164\n",
       "14   poly auto 5                0.870243   poly auto 5    0.518548\n",
       "15   poly auto 6                0.859174   poly auto 6    0.473306\n",
       "16   poly auto 7                0.859623   poly auto 7    0.469172\n",
       "17   poly auto 8                0.838931   poly auto 8    0.397190\n",
       "18   poly auto 9                0.834287   poly auto 9    0.388193\n",
       "19     poly auto                0.871846     poly auto    0.533595"
      ]
     },
     "execution_count": 16,
     "metadata": {},
     "output_type": "execute_result"
    }
   ],
   "source": [
    "result"
   ]
  },
  {
   "cell_type": "code",
   "execution_count": null,
   "metadata": {},
   "outputs": [],
   "source": []
  }
 ],
 "metadata": {
  "colab": {
   "collapsed_sections": [
    "prNcZ4PaQUjB"
   ],
   "name": "IDMP_Project_SVM.ipynb",
   "provenance": []
  },
  "kernelspec": {
   "display_name": "Python 3",
   "language": "python",
   "name": "python3"
  },
  "language_info": {
   "codemirror_mode": {
    "name": "ipython",
    "version": 3
   },
   "file_extension": ".py",
   "mimetype": "text/x-python",
   "name": "python",
   "nbconvert_exporter": "python",
   "pygments_lexer": "ipython3",
   "version": "3.7.3"
  }
 },
 "nbformat": 4,
 "nbformat_minor": 1
}
